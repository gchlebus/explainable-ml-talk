{
 "cells": [
  {
   "cell_type": "markdown",
   "id": "b5a7d217-8bbd-45b2-9168-288ce76a3854",
   "metadata": {},
   "source": [
    "# Analyzing Patient Experience Data\n",
    "\n",
    "In this excercise, we will analyze the patient experience data collected from the Manipal Hospitals, which is the oldest medical care group in India. In 2017, they served approx. 2 million clients from India and abroad. They have more than 5 200 beds across 16 hospitals.\n",
    "\n",
    "Using this data we will try to find opportunities that Ajay Bakshi, MD and CEO of Manipial Hospitals, can leverage to improve the patient experience of Manipal Hospitals.\n",
    "\n",
    "The data can be downloaded from the [Predicting NPS to Improve Patient Experience](https://www.kaggle.com/c/puj-1910-predicting/overview) kaggle competition. "
   ]
  },
  {
   "cell_type": "code",
   "execution_count": null,
   "id": "e97d6d51-9939-42b5-b31d-f2355a223dbc",
   "metadata": {},
   "outputs": [],
   "source": [
    "%load_ext autoreload\n",
    "%autoreload 1\n",
    "\n",
    "import pandas as pd\n",
    "import matplotlib as mpl\n",
    "import matplotlib.pyplot as plt\n",
    "import seaborn as sns\n",
    "from pandas_profiling import ProfileReport\n",
    "import numpy as np\n",
    "from relativeImp import relativeImp\n",
    "from sklearn.linear_model import LinearRegression, RidgeCV\n",
    "from sklearn.preprocessing import StandardScaler\n",
    "from sklearn.model_selection import cross_validate\n",
    "from sklearn.model_selection import RepeatedKFold\n",
    "from sklearn.ensemble import RandomForestRegressor\n",
    "from sklearn.model_selection import cross_val_score, GridSearchCV\n",
    "from sklearn.dummy import DummyRegressor\n",
    "from sklearn.compose import make_column_transformer\n",
    "from sklearn.preprocessing import OneHotEncoder\n",
    "import shap\n",
    "\n",
    "mpl.rcParams[\"font.size\"] = 15\n",
    "\n",
    "%matplotlib inline\n",
    "%aimport common"
   ]
  },
  {
   "cell_type": "code",
   "execution_count": null,
   "id": "720c38f0-9172-44e2-af78-e06c99c65228",
   "metadata": {},
   "outputs": [],
   "source": [
    "training_data = pd.read_csv(\"../data/Training Data.csv\")"
   ]
  },
  {
   "cell_type": "code",
   "execution_count": null,
   "id": "6452806e-2735-4d15-9096-6c5de6d9bc6a",
   "metadata": {},
   "outputs": [],
   "source": [
    "column_es_en_mapping = {\n",
    "    'CONSECUTIVO': \"SurveyID\",\n",
    "    'ID': \"PatientID\",\n",
    "    'ESTADOCIVIL': \"PatientCivilStatus\",\n",
    "    'EDAD': \"PatientAge\",\n",
    "    'GENERO': \"PatientGender\",\n",
    "    'CATEGORIACAMA': \"HospitalizationType\",\n",
    "    'DEPARTAMENTO': \"Department\",\n",
    "    'COSTOESTIMADO': \"AverageHospializationCost\",\n",
    "    'CATEGORIA': \"AffiliationType\",\n",
    "    'ESTADO': \"State\",\n",
    "    'PAIS': \"Country\", \n",
    "    'ZONA': \"Zone\", \n",
    "    'FECHAENTRADA': \"PatientAdmissionDate\",\n",
    "    'FECHASALIDA': \"PatientExitDate\",\n",
    "    'DIASINTERNADO': \"HospitalizationDays\",\n",
    "    'SCORENPS': \"LTR\",    \n",
    "}\n",
    "training_data.rename(columns=column_es_en_mapping, inplace=True)"
   ]
  },
  {
   "cell_type": "markdown",
   "id": "6e370955-b40a-475d-8c69-29525549c414",
   "metadata": {},
   "source": [
    "Columns meaning\n",
    "```\n",
    "CONSECUTIVE -> Survey identification number.\n",
    "ID -> Patient identification number.\n",
    "ESTADOCIVIL -> Civil status of the patient.\n",
    "AGE -> Age of the patient.\n",
    "GENDER -> \"Sexual\" identity of the user (Female or Male).\n",
    "CATEGORYACAMA -> Type of hospitalization (General, Special, Intensive Care, among others).\n",
    "DEPARTMENT -> Specialty for which the patient was treated (Pediatrics, Gynecology, Geriatrics, among others).\n",
    "ESTIMATED COST -> Average cost of hospitalization.\n",
    "CATEGORY -> Type of affiliation depending on who assumes the costs (Patient, Insurance, Corporate, among others).\n",
    "STATE -> State of the country where the patient was treated.\n",
    "COUNTRY -> Country where the patient was treated.\n",
    "ZONE -> Zone of the country where the patient was treated.\n",
    "CE_ACCESSIBILITY -> Customer Engagement - Accessibility.\n",
    "CE_CSAT -> Customer Engagement - Satisfaction.\n",
    "CE_VALUEFORMONEY -> Customer Engagement - Price-Quality Ratio.\n",
    "EM_IMMEDIATEATTENTION -> Emergency - Immediate attention.\n",
    "EM_NURSING -> Emergency - Nursing care.\n",
    "EM_DOCTOR -> Emergency - Doctors care.\n",
    "EM_OVERALL -> Emergency - Services in general.\n",
    "AD_TIME -> Admission Process - Duration of the admission.\n",
    "AD_TARRIFFPACKAGESEXPLAINATION -> Admission Process - Explanation of available rates and packages.\n",
    "AD_STAFFATTITUDE -> Admission Process - Staff attitude.\n",
    "INR_ROOMCLEANLINESS -> In Room Experience - Room cleaning.\n",
    "INR_ROOMPEACE -> In Room Experience - Peace of mind in the room.\n",
    "INR_ROOMEQUIPMENT -> In Room Experience - Room equipment.\n",
    "INR_ROOMAMBIENCE -> In Room Experience - Room environment.\n",
    "FNB_FOODQUALITY -> Food and Beverage - Quality.\n",
    "FNB_FOODDELIVERYTIME -> Food and Beverage - Delivery time.\n",
    "FNB_DIETICIAN -> Food and Beverage - Regular nutritionist advice.\n",
    "FNB_STAFFATTITUDE -> Food and Beverage - Staff attitude.\n",
    "AE_ATTENDEECARE -> Attendees Experience - Care during the stay.\n",
    "AE_PATIENTSTATUSINFO -> Attendees Experience - Information on the patient's health status.\n",
    "AE_ATTENDEEFOOD -> Attendees Experience - Variety of meals during the stay.\n",
    "DOC_TREATMENTEXPLAINATION -> Doctors Experience - Treatment explanation.\n",
    "DOC_ATTITUDE -> Doctors Experience - Attitude of the staff.\n",
    "DOC_VISITS -> Doctors Experience - Regular visits.\n",
    "DOC_TREATMENTEFFECTIVENESS -> Doctors Experience - Treatment effectiveness.\n",
    "NS_CALLBELLRESPONSE -> Nursing Services - Prompt response when called.\n",
    "NS_NURSESATTITUDE -> Nursing Services - Staff attitude.\n",
    "NS_NURSEPROACTIVENESS -> Nursing Services - Staff proactivity.\n",
    "NS_NURSEPATIENCE -> Nursing Services - Staff patience.\n",
    "OVS_OVERALLSTAFFATTITUDE -> Overall Staff - Attitude of the staff in general.\n",
    "OVS_OVERALLSTAFFPROMPTNESS -> Overall Staff - Readiness of the staff in general.\n",
    "OVS_SECURITYATTITUDE -> Overall Staff - Attitude of the security staff.\n",
    "DP_DISCHARGETIME -> Discharge Process - Duration of the output process.\n",
    "DP_DISCHARGEQUERIES -> Discharge Process - Response to concerns.\n",
    "DP_DISCHARGEPROCESS -> Discharge Process - General output process.\n",
    "ENTRY DATE -> Patient's hospital admission date.\n",
    "EXIT DATE -> Patient's date of departure from the hospital.\n",
    "INTERNAL DAY -> Days of hospitalization of the patient.\n",
    "SCORENPS -> NPS rated from 0 to 10.\n",
    "NPS -> Classification of patients into promoters, passives and detractors.\n",
    "```"
   ]
  },
  {
   "cell_type": "markdown",
   "id": "5f69afa1-3730-48ac-b131-291c2991c149",
   "metadata": {},
   "source": [
    "It's always good to take a look at a correlation matrix of variables."
   ]
  },
  {
   "cell_type": "code",
   "execution_count": null,
   "id": "0752ac9c-377f-44ec-a657-6d9165e4a09e",
   "metadata": {},
   "outputs": [],
   "source": [
    "corr_matrix = training_data.select_dtypes(include=['float64', \"int64\"]).corr()\n",
    "common.vis_correlation_matrix(corr_matrix, figsize=(20, 20))"
   ]
  },
  {
   "cell_type": "markdown",
   "id": "c3c87242-ac3e-4c63-a8a4-cc03fba4bdce",
   "metadata": {},
   "source": [
    "The patient satisfaction data measures the following dimensions:\n",
    "- customer engagement (prefix CE_)\n",
    "- Emergency (EM_)\n",
    "- Admission process (AD_)\n",
    "- In room experience (INR_)\n",
    "- Food and beverage (FNB_)\n",
    "- Attendees experience (AE_)\n",
    "- Doctors experience (DOC_)\n",
    "- Nursing services (NS_)\n",
    "- Overall staff (OVS_)\n",
    "- Discharge process (DP_)\n",
    "\n",
    "Let's start by computing dimension-level scores and comparing them to see which of the dimensions scored the lowest."
   ]
  },
  {
   "cell_type": "code",
   "execution_count": null,
   "id": "11edbb57-ab7b-46f4-83a2-4e7973b1dc61",
   "metadata": {},
   "outputs": [],
   "source": [
    "dimension_prefix_mapping = {\n",
    "    #\"Customer Engagement\": \"CE_\",\n",
    "    \"Admission Process\": \"AD_\",\n",
    "    \"In Room Experience\": \"INR_\",\n",
    "    \"Food and Beverage\": \"FNB_\",\n",
    "    \"Attendees Experience\": \"AE_\",\n",
    "    \"Doctors Experience\": \"DOC_\",\n",
    "    \"Nursing Services\": \"NS_\",\n",
    "    \"Overall Staff\": \"OVS_\",\n",
    "    \"Discharge Process\": \"DP_\"\n",
    "}\n",
    "\n",
    "series = []\n",
    "for dimension_name, prefix in dimension_prefix_mapping.items():\n",
    "    series.append(training_data.loc[:, training_data.columns.str.startswith(prefix)].mean(axis=1).rename(dimension_name))\n",
    "dimension_level_data = pd.concat(series, axis=1)"
   ]
  },
  {
   "cell_type": "code",
   "execution_count": null,
   "id": "03feee96-324c-4ab0-8db4-2bf0c3683718",
   "metadata": {},
   "outputs": [],
   "source": [
    "dimension_level_data.head()"
   ]
  },
  {
   "cell_type": "code",
   "execution_count": null,
   "id": "881241d8-aeac-4934-a9d9-74f81211a1c1",
   "metadata": {},
   "outputs": [],
   "source": [
    "plot_data = dimension_level_data.copy()\n",
    "plot_data.insert(0, \"LTR\", training_data[\"LTR\"])\n",
    "_ = sns.pairplot(plot_data, kind=\"reg\", diag_kind=\"kde\")"
   ]
  },
  {
   "cell_type": "markdown",
   "id": "ad761a25-b997-4ade-87b2-f9c02c8e5b43",
   "metadata": {
    "tags": []
   },
   "source": [
    "## Q1: Which dimension scored the lowest?"
   ]
  },
  {
   "cell_type": "code",
   "execution_count": null,
   "id": "0959460e-0f1c-40a2-ae3a-127e567b8a38",
   "metadata": {},
   "outputs": [],
   "source": [
    "dimension_level_data.mean().sort_values(ascending=True)"
   ]
  },
  {
   "cell_type": "code",
   "execution_count": null,
   "id": "6665f255-0728-49c3-a9ba-fd307f5e619f",
   "metadata": {},
   "outputs": [],
   "source": [
    "dimension_level_data.mean().sort_values().plot.bar();"
   ]
  },
  {
   "cell_type": "markdown",
   "id": "5095d600-9af9-4475-a728-db2794fdfd8c",
   "metadata": {},
   "source": [
    "From the above we might conclude that one needs to improve the experience in the `Food and Beverage` and the `Discharge Process` first, as these dimensions scored the lowest."
   ]
  },
  {
   "cell_type": "markdown",
   "id": "c4a3230c-609a-4ca6-8cf0-4cf4736f302d",
   "metadata": {},
   "source": [
    "## Q2: Can we predict the LTR score based on the patient satisfaction data?"
   ]
  },
  {
   "cell_type": "code",
   "execution_count": null,
   "id": "53bb12ee-ff72-4670-acec-47212672910c",
   "metadata": {},
   "outputs": [],
   "source": [
    "X = dimension_level_data\n",
    "y = training_data[\"LTR\"]\n",
    "cv_splits = 10\n",
    "scoring = \"neg_root_mean_squared_error\"\n",
    "\n",
    "scores = np.abs(cross_val_score(DummyRegressor(), X, y, cv=cv_splits, scoring=scoring))\n",
    "print(f\"Dummy Regressor: {scores.mean():.2f} +/- {scores.std():.2f}\")\n",
    "\n",
    "scores = np.abs(cross_val_score(LinearRegression(), X, y, cv=cv_splits, scoring=scoring))\n",
    "print(f\"Linear Regression: {scores.mean():.2f} +/- {scores.std():.2f}\")\n",
    "\n",
    "param_grid = {\n",
    "    \"min_samples_leaf\": [5, 10, 20],\n",
    "    \"criterion\": [\"squared_error\", \"absolute_error\", \"poisson\"]\n",
    "}\n",
    "\n",
    "clf = GridSearchCV(estimator=RandomForestRegressor(), param_grid=param_grid, cv=cv_splits, scoring=scoring, n_jobs=-1)\n",
    "clf.fit(X, y)\n",
    "cv_results = pd.DataFrame(clf.cv_results_).sort_values(by=\"rank_test_score\")\n",
    "print(f\"Random Forest: {np.abs(cv_results.iloc[0].mean_test_score):.2f} +/- {cv_results.iloc[0].std_test_score:.2f}\")"
   ]
  },
  {
   "cell_type": "markdown",
   "id": "8c1c6092-8217-4707-b6cb-1578b0423182",
   "metadata": {},
   "source": [
    "## Multiple Linear Regression\n",
    "$\\textrm{LTR} = \\alpha_1 \\textrm{FoodAndBeverage} + \\alpha_2\\textrm{Discharge Experience} + \\alpha_3 \\textrm{Attendees Experience} \\ldots$"
   ]
  },
  {
   "cell_type": "code",
   "execution_count": null,
   "id": "63a8c978-2247-496b-8fc1-7953f6c4b40b",
   "metadata": {},
   "outputs": [],
   "source": [
    "reg = LinearRegression().fit(dimension_level_data, training_data[\"LTR\"])\n",
    "r2 = reg.score(dimension_level_data, training_data[\"LTR\"])\n",
    "print(f\"R2 = {r2:.2f}\")\n",
    "reg_coefs = pd.Series(reg.coef_ , index=dimension_level_data.columns).sort_values()\n",
    "display(reg_coefs)\n",
    "reg_coefs.plot(kind=\"barh\", figsize=(9,7))\n",
    "plt.axvline(x=0, color=\".5\");"
   ]
  },
  {
   "cell_type": "markdown",
   "id": "6332075f-ba84-41fb-9771-1475cef280c0",
   "metadata": {},
   "source": [
    "The interpretation of the above linear regression coefficients is the following.\n",
    "Increase in the mean Food and Beverage of 1 point results in an LTR increase of 0.186 points.\n",
    "\n",
    "Obviously, we have a problem with this model, as the Nursing Services dimension has a negative coefficient!"
   ]
  },
  {
   "cell_type": "code",
   "execution_count": null,
   "id": "0d7583f8-b633-4bec-ba02-7be64f2a2854",
   "metadata": {},
   "outputs": [],
   "source": [
    "cv_model = cross_validate(LinearRegression(), dimension_level_data, training_data[\"LTR\"],\n",
    "    cv=RepeatedKFold(n_splits=2, n_repeats=20), return_estimator=True,n_jobs=-1)\n",
    "coefs = pd.DataFrame([est.coef_ for est in cv_model[\"estimator\"]],columns=dimension_level_data.columns)\n",
    "plt.figure(figsize=(9, 7))\n",
    "sns.stripplot(data=coefs, orient=\"h\", color=\"k\", alpha=0.5)\n",
    "sns.boxplot(data=coefs, orient=\"h\", color=\"cyan\", saturation=0.5)\n",
    "plt.axvline(x=0, color=\".5\")\n",
    "plt.xlabel(\"Coefficient\")\n",
    "plt.title(\"Coefficient and its variability\")\n",
    "plt.subplots_adjust(left=0.3)"
   ]
  },
  {
   "cell_type": "code",
   "execution_count": null,
   "id": "bfadead6-5ae6-4400-ab03-a28e1340e44e",
   "metadata": {},
   "outputs": [],
   "source": [
    "common.vis_correlation_matrix(dimension_level_data.corr(), figsize=(15, 15))"
   ]
  },
  {
   "cell_type": "code",
   "execution_count": null,
   "id": "93ee75c9-0d62-4d9d-ad91-32a5e8a8ff63",
   "metadata": {},
   "outputs": [],
   "source": [
    "reg_explainer = shap.Explainer(reg.predict, dimension_level_data)\n",
    "reg_shap_values = reg_explainer(dimension_level_data)"
   ]
  },
  {
   "cell_type": "code",
   "execution_count": null,
   "id": "fa202b81-83b9-4fab-889c-575c3d975e28",
   "metadata": {},
   "outputs": [],
   "source": [
    "sample_index = 10\n",
    "dimension_level_data.iloc[sample_index]"
   ]
  },
  {
   "cell_type": "code",
   "execution_count": null,
   "id": "a754b607-b530-47d9-a3fd-37911dec43c1",
   "metadata": {},
   "outputs": [],
   "source": [
    "reg.predict(dimension_level_data.iloc[sample_index:sample_index+1])"
   ]
  },
  {
   "cell_type": "code",
   "execution_count": null,
   "id": "2b451993-69ce-4aa1-8370-3262a5c98891",
   "metadata": {},
   "outputs": [],
   "source": [
    "shap.plots.waterfall(reg_shap_values[sample_index])"
   ]
  },
  {
   "cell_type": "code",
   "execution_count": null,
   "id": "d5e30ebd-40ae-48ab-9a72-725008ea4793",
   "metadata": {},
   "outputs": [],
   "source": [
    "shap.plots.beeswarm(reg_shap_values, plot_size=(10, 10))"
   ]
  },
  {
   "cell_type": "markdown",
   "id": "ac8fa3dd-08a7-44a9-94c2-a3f3e2d16783",
   "metadata": {},
   "source": [
    "# Q3: Which dimension is the most important?"
   ]
  },
  {
   "cell_type": "code",
   "execution_count": null,
   "id": "50033ee4-93d2-4df8-89d8-9656fb7cc9ce",
   "metadata": {},
   "outputs": [],
   "source": [
    "importance = pd.Series(reg.coef_ * dimension_level_data.std() , index=dimension_level_data.columns)\n",
    "importance.abs().sort_values().plot(kind=\"barh\", figsize=(9,7))\n",
    "plt.axvline(x=0, color=\".5\")"
   ]
  },
  {
   "cell_type": "code",
   "execution_count": null,
   "id": "de617f56-4abf-4ad6-82cc-5f9bfa33dbf4",
   "metadata": {},
   "outputs": [],
   "source": [
    "shap.plots.bar(reg_shap_values)"
   ]
  },
  {
   "cell_type": "markdown",
   "id": "e4bd9c34-e9b4-451d-ab89-d57f03f96748",
   "metadata": {},
   "source": [
    "**Johnson's Relative Weights**\n",
    "\n",
    "*Johnson JW. A heuristic method for estimating the relative weight of predictor variables in multiple regression. Multivariate behavioral research.* 2000 Jan 1;35(1):1-9. [PDF](https://d1wqtxts1xzle7.cloudfront.net/48799577/A_heuristic_method_for_estimating_the_re20160913-27311-903yb1-with-cover-page-v2.pdf?Expires=1638541980&Signature=CL5lXIPTKWbor3E7y-SD6kJguUx22eILQOrhXOatHjpSAkQnXJFWSJt1Ro5CDzPLxarO7AXO1MHVuXf2ZBrknqEGqixoMbSlikR3QOqzoqpGo8WzSSCP0Svi2WbIWILNWQMPtaYLIO7QoNLFfmSa8-9fjNBkh4Lyz0fMe5kaVe~bY0BtyF5eKlCI69VexqAqKnYWMxGUEeeM8HNvAADKjmxMMkUcnP6q1poOx-JtkrhOnwwk4Rdbz4OCQsfZ2ulMJA-et6Yic1AD5WrZZbwioieStQPDfe1jC0f~lf8tY8YN4fcusSSmoDtBdA8dLUBFyTqdL9GpnMRMmHmUdBIy6w__&Key-Pair-Id=APKAJLOHF5GGSLRBV4ZA)"
   ]
  },
  {
   "cell_type": "code",
   "execution_count": null,
   "id": "6b135998-3d02-4045-99ec-5d27aa82e3d7",
   "metadata": {},
   "outputs": [],
   "source": [
    "df = dimension_level_data.copy()\n",
    "df[\"LTR\"] = training_data[\"LTR\"]\n",
    "relativeImp(df, outcomeName=\"LTR\", driverNames=dimension_level_data.columns.to_list()).sort_values(by=\"normRelaImpt\", ascending=False)"
   ]
  },
  {
   "cell_type": "markdown",
   "id": "1ec81953-f40f-44ef-bd06-28abf2763020",
   "metadata": {},
   "source": [
    "## Q4: What the Random Forest model tells us about the data?"
   ]
  },
  {
   "cell_type": "code",
   "execution_count": null,
   "id": "7a47bb17-2e8d-42a5-9604-44e3ef41599b",
   "metadata": {},
   "outputs": [],
   "source": [
    "rf_explainer = shap.Explainer(clf.best_estimator_.predict, dimension_level_data)\n",
    "rf_shap_values = rf_explainer(dimension_level_data)"
   ]
  },
  {
   "cell_type": "code",
   "execution_count": null,
   "id": "983cbd62-bd05-43ba-91ed-b0af577e22cf",
   "metadata": {},
   "outputs": [],
   "source": [
    "shap.plots.waterfall(rf_shap_values[sample_index])"
   ]
  },
  {
   "cell_type": "code",
   "execution_count": null,
   "id": "e9ce27e1-23ca-46fd-9416-e348fcbc813b",
   "metadata": {},
   "outputs": [],
   "source": [
    "shap.plots.bar(rf_shap_values)"
   ]
  },
  {
   "cell_type": "code",
   "execution_count": null,
   "id": "e8a40a04-9c50-43be-8d67-5da14169eba6",
   "metadata": {},
   "outputs": [],
   "source": [
    "shap.plots.beeswarm(rf_shap_values, plot_size=(10, 10))"
   ]
  },
  {
   "cell_type": "code",
   "execution_count": null,
   "id": "c348e4d7-a3aa-460e-a0de-07bc419d3198",
   "metadata": {},
   "outputs": [],
   "source": [
    "fig = plt.figure(figsize=(8, 6))\n",
    "shap.plots.scatter(rf_shap_values[:,\"Discharge Process\"], ax=fig.gca())"
   ]
  },
  {
   "cell_type": "code",
   "execution_count": null,
   "id": "2cb1356a-46e4-4f63-9a27-e116e6ba1f7a",
   "metadata": {},
   "outputs": [],
   "source": [
    "fig = plt.figure(figsize=(8, 6))\n",
    "shap.plots.scatter(rf_shap_values[:,\"Overall Staff\"], ax=fig.gca())"
   ]
  },
  {
   "cell_type": "code",
   "execution_count": null,
   "id": "8fbe6619-9703-4edf-be7c-626fc5f4a578",
   "metadata": {},
   "outputs": [],
   "source": [
    "fig = plt.figure(figsize=(8, 6))\n",
    "shap.plots.scatter(rf_shap_values[:,\"Nursing Services\"], ax=fig.gca())"
   ]
  },
  {
   "cell_type": "code",
   "execution_count": null,
   "id": "da1d63d4-9025-478a-86f0-37682b8cd335",
   "metadata": {},
   "outputs": [],
   "source": [
    "fig = plt.figure(figsize=(8, 6))\n",
    "shap.plots.scatter(rf_shap_values[:,\"Nursing Services\"], color=rf_shap_values[:,\"Overall Staff\"], ax=fig.gca())"
   ]
  },
  {
   "cell_type": "markdown",
   "id": "1742bdb2-6dde-4f6d-b4b4-d3ec754f4926",
   "metadata": {},
   "source": [
    "# Q5: Can we find any interesting segments in the data?"
   ]
  },
  {
   "cell_type": "code",
   "execution_count": null,
   "id": "776f58c3-c398-4915-951f-e16f54d0a9a3",
   "metadata": {},
   "outputs": [],
   "source": [
    "training_data.head()"
   ]
  },
  {
   "cell_type": "code",
   "execution_count": null,
   "id": "0ce73ba1-32f5-41eb-a099-16c4560dccf9",
   "metadata": {},
   "outputs": [],
   "source": [
    "def compare_plots(data, column, selected_indices):\n",
    "    plt.figure(figsize=(10, 4))\n",
    "    ax = plt.subplot(1, 2, 1)\n",
    "    vc = training_data[column].value_counts()\n",
    "    (vc / len(training_data)).plot(kind=\"barh\", ax=ax)\n",
    "    ax.set_title(f\"{column} distribution on all training data\")\n",
    "\n",
    "    ax = plt.subplot(1, 2, 2)\n",
    "    #selected_cases = training_data.iloc[]\n",
    "    selected_cases = training_data.iloc[selected_indices]\n",
    "    (selected_cases[column].value_counts().reindex_like(vc) / len(selected_cases)).plot(kind=\"barh\", ax=ax)\n",
    "    ax.set_title(f\"{column} distribution on selected cases data\")"
   ]
  },
  {
   "cell_type": "code",
   "execution_count": null,
   "id": "11669f41-3c65-4f52-b5ce-09aaad6073b1",
   "metadata": {},
   "outputs": [],
   "source": [
    "# selected_indices = np.where(shap_values.values[:, 4] < -0.5)[0].tolist()\n",
    "# print(f\"selected case count: {len(selected_indices)}\")\n",
    "# compare_plots(training_data, \"Department\", selected_indices)\n",
    "# compare_plots(training_data, \"AffiliationType\", selected_indices)\n",
    "# compare_plots(training_data, \"PatientGender\", selected_indices)\n",
    "# compare_plots(training_data, \"HospitalizationType\", selected_indices)"
   ]
  },
  {
   "cell_type": "code",
   "execution_count": null,
   "id": "52390812-903b-4d5d-83e3-57685206e441",
   "metadata": {},
   "outputs": [],
   "source": [
    "# selected_indices = np.where(shap_values.values[:, -1] < -0.5)[0].tolist()\n",
    "# print(f\"selected case count: {len(selected_indices)}\")\n",
    "# compare_plots(training_data, \"Department\", selected_indices)\n",
    "# compare_plots(training_data, \"AffiliationType\", selected_indices)\n",
    "# compare_plots(training_data, \"PatientGender\", selected_indices)\n",
    "# compare_plots(training_data, \"HospitalizationType\", selected_indices)"
   ]
  },
  {
   "cell_type": "code",
   "execution_count": null,
   "id": "b5c209e8-9d8b-47a7-b158-c5532b081215",
   "metadata": {},
   "outputs": [],
   "source": [
    "segment_columns = [\"PatientCivilStatus\", \"PatientAge\", \"PatientGender\", \"HospitalizationType\", \"Department\", \"AverageHospializationCost\", \"AffiliationType\", \"HospitalizationDays\"]\n",
    "X = training_data[segment_columns].copy()\n",
    "y = training_data[\"LTR\"]"
   ]
  },
  {
   "cell_type": "code",
   "execution_count": null,
   "id": "87c0757a-2cfd-4f3e-a0e1-d67f72ea550f",
   "metadata": {},
   "outputs": [],
   "source": [
    "categorical_columns = [\"PatientCivilStatus\", \"PatientGender\", \"HospitalizationType\", \"Department\", \"AffiliationType\"]\n",
    "preprocessor = make_column_transformer(\n",
    "    (OneHotEncoder(sparse=False), categorical_columns),\n",
    "    remainder=\"passthrough\",\n",
    "    verbose_feature_names_out=False,\n",
    ")"
   ]
  },
  {
   "cell_type": "code",
   "execution_count": null,
   "id": "0fe067df-2ec1-4c19-85ca-5ceb07202ff8",
   "metadata": {},
   "outputs": [],
   "source": [
    "X_transformed = preprocessor.fit_transform(X)"
   ]
  },
  {
   "cell_type": "code",
   "execution_count": null,
   "id": "e7a2021e-ccf8-4664-b73e-7b87754b5bbf",
   "metadata": {},
   "outputs": [],
   "source": [
    "rf_segments = RandomForestRegressor().fit(X_transformed, y)"
   ]
  },
  {
   "cell_type": "code",
   "execution_count": null,
   "id": "7465e2db-f019-4d03-8b28-71ad6d94e58b",
   "metadata": {},
   "outputs": [],
   "source": [
    "rf_segments_explainer = shap.Explainer(rf_segments.predict, X_transformed, feature_names=preprocessor.get_feature_names_out())\n",
    "rf_segments_shap_values = rf_segments_explainer(X_transformed[:1000])"
   ]
  },
  {
   "cell_type": "code",
   "execution_count": null,
   "id": "b0dc6c09-43fb-43d7-bf05-85ba0a355b94",
   "metadata": {},
   "outputs": [],
   "source": [
    "shap.plots.beeswarm(rf_segments_shap_values, plot_size=(10, 10), max_display=20)"
   ]
  },
  {
   "cell_type": "code",
   "execution_count": null,
   "id": "1432493d-6140-4a92-9757-029363592890",
   "metadata": {},
   "outputs": [],
   "source": [
    "# shap.summary_plot(shap_values, X_transformed, plot_size=(10,10), feature_names=preprocessor.get_feature_names_out())"
   ]
  },
  {
   "cell_type": "code",
   "execution_count": null,
   "id": "2aec6264-0e3a-4fbf-98a6-1d9bafb4102e",
   "metadata": {},
   "outputs": [],
   "source": [
    "df = training_data.groupby(\"Department AffiliationType HospitalizationType\".split())[\"LTR\"].agg(\"mean std count\".split()).sort_values(by=\"mean\")"
   ]
  },
  {
   "cell_type": "code",
   "execution_count": null,
   "id": "baa185de-c45e-4d7c-a863-e88bb3fd469c",
   "metadata": {},
   "outputs": [],
   "source": [
    "df[df[\"count\"] > 50]"
   ]
  },
  {
   "cell_type": "code",
   "execution_count": null,
   "id": "f2e5fe66-dfa2-40f4-8a57-63ac8ddbbb83",
   "metadata": {},
   "outputs": [],
   "source": []
  }
 ],
 "metadata": {
  "kernelspec": {
   "display_name": "Python 3 (ipykernel)",
   "language": "python",
   "name": "python3"
  },
  "language_info": {
   "codemirror_mode": {
    "name": "ipython",
    "version": 3
   },
   "file_extension": ".py",
   "mimetype": "text/x-python",
   "name": "python",
   "nbconvert_exporter": "python",
   "pygments_lexer": "ipython3",
   "version": "3.8.5"
  }
 },
 "nbformat": 4,
 "nbformat_minor": 5
}
