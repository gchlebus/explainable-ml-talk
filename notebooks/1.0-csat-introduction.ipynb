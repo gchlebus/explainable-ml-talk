{
 "cells": [
  {
   "cell_type": "markdown",
   "id": "41a83254-aba4-4c8a-865e-2da47e7f3fa7",
   "metadata": {
    "tags": []
   },
   "source": [
    "# Customer Satisfaction\n",
    "\n",
    "Customer satifsfaction aims at measuring how clients are satisfied with a given product or service they purchased or used.\n",
    "\n",
    "The most common way of measuring this is based on asking a question of the following structure\n",
    "\n",
    "<h3>On a scale from 0 to 10, how likely would you be to recommend our company/product/service to a friend?</h3>\n",
    "    \n",
    "\n",
    "This question is often referred to as the likelihood to recommend (LTR) question.\n",
    "    \n",
    "The responses to the LTR question are most frequently summarized using the Net Promoter Score [1] that is computed as follows:\n",
    "\n",
    "![NPSformula](img/nps.png)\n",
    "*Image from [qualtrics.com](https://www.qualtrics.com/uk/experience-management/customer/net-promoter-score/?rid=ip&prevsite=en&newsite=uk&geo=PL&geomatch=uk)*\n",
    "\n",
    "[1] https://hbr.org/2003/12/the-one-number-you-need-to-grow"
   ]
  },
  {
   "cell_type": "markdown",
   "id": "b8d21e3f-db1b-4810-a372-c7ffd55bc20f",
   "metadata": {},
   "source": [
    "Very often the LTR question is accompanied by follow up questions measuring the customer satisfaction in relevant dimensions. Examples:\n",
    "\n",
    "- How satisfied were you with the website experience?\n",
    "- How satisfied were you with the delivery?\n",
    "- How would you rate the price for value of the product?\n",
    "- How satisifed were you with food and beverages served during the flight?\n",
    "\n",
    "These questions help in understanding which customer satisfaction aspects have the biggest impact on NPS. This information together, often acommpanied with financial data, is crucial in making informed business decisions."
   ]
  },
  {
   "cell_type": "markdown",
   "id": "2c58977f-3b10-459e-8533-85fdf93613af",
   "metadata": {},
   "source": [
    "At Qualtrics we help organizations to efficiently collect, summarize, and analyze the customer satisfaction data. We call it experience management and we offer tailored solutions for customer, employee, brand, and product experience."
   ]
  },
  {
   "cell_type": "code",
   "execution_count": null,
   "id": "42bb875b-712b-4d63-8ccc-cd0c4335550e",
   "metadata": {},
   "outputs": [],
   "source": []
  }
 ],
 "metadata": {
  "kernelspec": {
   "display_name": "Python 3 (ipykernel)",
   "language": "python",
   "name": "python3"
  },
  "language_info": {
   "codemirror_mode": {
    "name": "ipython",
    "version": 3
   },
   "file_extension": ".py",
   "mimetype": "text/x-python",
   "name": "python",
   "nbconvert_exporter": "python",
   "pygments_lexer": "ipython3",
   "version": "3.8.5"
  }
 },
 "nbformat": 4,
 "nbformat_minor": 5
}
